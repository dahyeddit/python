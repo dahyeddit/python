{
 "cells": [
  {
   "cell_type": "markdown",
   "metadata": {},
   "source": [
    "# 변수"
   ]
  },
  {
   "cell_type": "markdown",
   "metadata": {},
   "source": [
    "## 변수 기본"
   ]
  },
  {
   "cell_type": "code",
   "execution_count": 10,
   "metadata": {
    "scrolled": false
   },
   "outputs": [
    {
     "name": "stdout",
     "output_type": "stream",
     "text": [
      "5\n",
      "3.14\n",
      "True\n",
      "python\n"
     ]
    }
   ],
   "source": [
    "a=5\n",
    "print(a)\n",
    "\n",
    "b=3.14\n",
    "print(b)\n",
    "\n",
    "c=True\n",
    "print(c)\n",
    "\n",
    "d='python'\n",
    "# d=\"python\"\n",
    "print(d)"
   ]
  },
  {
   "cell_type": "code",
   "execution_count": 11,
   "metadata": {},
   "outputs": [
    {
     "name": "stdout",
     "output_type": "stream",
     "text": [
      "50\n"
     ]
    }
   ],
   "source": [
    "a=50\n",
    "print(a)"
   ]
  },
  {
   "cell_type": "markdown",
   "metadata": {},
   "source": [
    "#### number 변수에 10, b 변수에 False, python 변수에 'I love python!' 를 각각 넣어준 후 print()를 써서 출력 해주세요."
   ]
  },
  {
   "cell_type": "code",
   "execution_count": 12,
   "metadata": {},
   "outputs": [
    {
     "name": "stdout",
     "output_type": "stream",
     "text": [
      "10\n",
      "False\n",
      "I love python!\n"
     ]
    }
   ],
   "source": [
    "number=10\n",
    "print(number)\n",
    "\n",
    "b=False\n",
    "print(b)\n",
    "\n",
    "python='I love python!'\n",
    "print(python)"
   ]
  },
  {
   "cell_type": "code",
   "execution_count": 8,
   "metadata": {},
   "outputs": [
    {
     "name": "stdout",
     "output_type": "stream",
     "text": [
      "5\n"
     ]
    }
   ],
   "source": [
    "# 이 줄은 주석 줄입니다.\n",
    "# 주석은 컴퓨터가 코드로 인식하지 않습니다.\n",
    "# 코드를 설명할 때 '#' 다음에 설명을 쓴다면 좋겠죠?\n",
    "\n",
    "a=5\n",
    "# a=6\n",
    "print(a)"
   ]
  },
  {
   "cell_type": "markdown",
   "metadata": {},
   "source": [
    "#### 아래 코드를 실행하면 오류가 나옵니다. #(주석) 을 활용하여 이를 해결하세요"
   ]
  },
  {
   "cell_type": "code",
   "execution_count": 1,
   "metadata": {},
   "outputs": [
    {
     "name": "stdout",
     "output_type": "stream",
     "text": [
      "90\n"
     ]
    }
   ],
   "source": [
    "answer=50+40 50 # 더하기 40을 answer 변수에 저장 합니다.\n",
    "print(answer)"
   ]
  },
  {
   "cell_type": "code",
   "execution_count": 16,
   "metadata": {
    "scrolled": true
   },
   "outputs": [
    {
     "name": "stdout",
     "output_type": "stream",
     "text": [
      "멍!\n",
      "멍!멍!\n"
     ]
    }
   ],
   "source": [
    "number1=20\n",
    "# 1number=20 # NO!\n",
    "\n",
    "decial_=3.14\n",
    "# *decimal=3.14 # NO!\n",
    "\n",
    "if_='만약에'\n",
    "# if='만약에'\n",
    "\n",
    "Dog='멍!'\n",
    "dog='멍!멍!'\n",
    "\n",
    "print(Dog)\n",
    "print(dog)"
   ]
  },
  {
   "cell_type": "markdown",
   "metadata": {},
   "source": [
    "#### 아래 코드는 총 6개의 변수를 정의 했습니다. 그러나 몇 개의 변수명이 문제가 있군요! <br/> 문제 있는 변수 이름 옆에 #을 붙여 컴퓨터가 인식 하지 못하게 해주세요.\n",
    "실행시 오류가 발생하지 않아야 정상 작동 한 것입니다!"
   ]
  },
  {
   "cell_type": "code",
   "execution_count": 18,
   "metadata": {},
   "outputs": [],
   "source": [
    "# a^b^a=10\n",
    "a___b=20\n",
    "# 30thirty=30\n",
    "# for=50\n",
    "four10ty=40\n",
    "PyThOn=60"
   ]
  },
  {
   "cell_type": "markdown",
   "metadata": {},
   "source": [
    "## 리스트"
   ]
  },
  {
   "cell_type": "code",
   "execution_count": 15,
   "metadata": {},
   "outputs": [
    {
     "name": "stdout",
     "output_type": "stream",
     "text": [
      "[1, 2, 3, 4, 5]\n"
     ]
    }
   ],
   "source": [
    "l=[1,2,3,4,5]\n",
    "print(l)"
   ]
  },
  {
   "cell_type": "code",
   "execution_count": 27,
   "metadata": {},
   "outputs": [
    {
     "name": "stdout",
     "output_type": "stream",
     "text": [
      "1\n",
      "4\n"
     ]
    }
   ],
   "source": [
    "print(l[0])\n",
    "print(l[3])\n",
    "# print(l[6])"
   ]
  },
  {
   "cell_type": "code",
   "execution_count": 28,
   "metadata": {
    "scrolled": true
   },
   "outputs": [
    {
     "name": "stdout",
     "output_type": "stream",
     "text": [
      "[1, 2, 3]\n",
      "[3, 4]\n"
     ]
    }
   ],
   "source": [
    "print(l[0:3])\n",
    "print(l[2:4])"
   ]
  },
  {
   "cell_type": "markdown",
   "metadata": {},
   "source": [
    "#### 리스트 L은 2,4,6,8,10 이 들어가 있습니다. L을 정의하고 L의 2번째 값과 3번째 부터 5번째 값을 각각 print()를 사용해서 출력하세요 <br/>\n",
    "\n",
    "<b>HINT</b> <br/>\n",
    "실제 리스트에 접근하는 번호는 하나 작은 값이어야 하겠죠? <br/>\n",
    "L[첫 번째 번호 : 마지막 번호 + 1]"
   ]
  },
  {
   "cell_type": "code",
   "execution_count": 16,
   "metadata": {
    "scrolled": true
   },
   "outputs": [
    {
     "name": "stdout",
     "output_type": "stream",
     "text": [
      "4\n",
      "[6, 8, 10]\n"
     ]
    }
   ],
   "source": [
    "L=[2,4,6,8,10]\n",
    "\n",
    "print(L[1])\n",
    "print(L[2:6])"
   ]
  },
  {
   "cell_type": "markdown",
   "metadata": {},
   "source": [
    "## 리스트 값 바꾸기 및 값 추가하기"
   ]
  },
  {
   "cell_type": "code",
   "execution_count": 17,
   "metadata": {},
   "outputs": [
    {
     "name": "stdout",
     "output_type": "stream",
     "text": [
      "[1, 2, 9, 4, 5]\n"
     ]
    }
   ],
   "source": [
    "l[2]=9\n",
    "print(l)"
   ]
  },
  {
   "cell_type": "code",
   "execution_count": 18,
   "metadata": {},
   "outputs": [
    {
     "name": "stdout",
     "output_type": "stream",
     "text": [
      "[1, 2, 9, 4, 5, 6]\n"
     ]
    }
   ],
   "source": [
    "l.append(6)\n",
    "print(l)"
   ]
  },
  {
   "cell_type": "markdown",
   "metadata": {},
   "source": [
    "## 추가 내용"
   ]
  },
  {
   "cell_type": "code",
   "execution_count": 2,
   "metadata": {},
   "outputs": [
    {
     "name": "stdout",
     "output_type": "stream",
     "text": [
      "List 안의 값의 수 (List의 길이) : 5\n"
     ]
    }
   ],
   "source": [
    "List=[1,2,3,4,5]\n",
    "\n",
    "print('List 안의 값의 수 (List의 길이) :',len(List))"
   ]
  },
  {
   "cell_type": "markdown",
   "metadata": {},
   "source": [
    "#### L 이라는 리스트를 만들어 봅시다. L은 11,12,13이 들어 있습니다. <br/> 리스트를 만든 후 L의 2번째 값을 10으로 바꾸고 14를 추가로 넣어주세요(append)"
   ]
  },
  {
   "cell_type": "code",
   "execution_count": 36,
   "metadata": {},
   "outputs": [
    {
     "name": "stdout",
     "output_type": "stream",
     "text": [
      "[11, 10, 13, 14]\n"
     ]
    }
   ],
   "source": [
    "L=[11,12,13]\n",
    "\n",
    "L[1]=10\n",
    "L.append(14)\n",
    "\n",
    "print(L)"
   ]
  },
  {
   "cell_type": "markdown",
   "metadata": {},
   "source": [
    "# if 문"
   ]
  },
  {
   "cell_type": "markdown",
   "metadata": {},
   "source": [
    "## True 와 False"
   ]
  },
  {
   "cell_type": "code",
   "execution_count": 50,
   "metadata": {},
   "outputs": [
    {
     "name": "stdout",
     "output_type": "stream",
     "text": [
      "True\n"
     ]
    }
   ],
   "source": [
    "a=10\n",
    "print(a==10)"
   ]
  },
  {
   "cell_type": "code",
   "execution_count": 54,
   "metadata": {},
   "outputs": [
    {
     "name": "stdout",
     "output_type": "stream",
     "text": [
      "and는 그리고 입니다!\n",
      "진실 그리고 진실 : True\n",
      "진실 그리고 거짓 : False\n",
      "거짓 그리고 거짓 : False\n",
      "\n",
      "or은 또는 입니다!\n",
      "진실 또는 진실 : True\n",
      "진실 또는 거짓 : True\n",
      "거짓 또는 거짓 : False\n"
     ]
    }
   ],
   "source": [
    "print('and는 그리고 입니다!')\n",
    "print('진실 그리고 진실 :',True and True)\n",
    "print('진실 그리고 거짓 :',True and False)\n",
    "print('거짓 그리고 거짓 :',False and False)\n",
    "\n",
    "print()\n",
    "\n",
    "print('or은 또는 입니다!')\n",
    "print('진실 또는 진실 :',True or True)\n",
    "print('진실 또는 거짓 :',True or False)\n",
    "print('거짓 또는 거짓 :',False or False)"
   ]
  },
  {
   "cell_type": "markdown",
   "metadata": {},
   "source": [
    "## if / if-else / if-elif-else"
   ]
  },
  {
   "cell_type": "code",
   "execution_count": 41,
   "metadata": {},
   "outputs": [
    {
     "name": "stdout",
     "output_type": "stream",
     "text": [
      "a는 10 입니다.\n"
     ]
    }
   ],
   "source": [
    "a=10\n",
    "\n",
    "if a==10:\n",
    "    print('a는 10 입니다.')"
   ]
  },
  {
   "cell_type": "code",
   "execution_count": 39,
   "metadata": {},
   "outputs": [
    {
     "name": "stdout",
     "output_type": "stream",
     "text": [
      "a는 10이 아닙니다.\n"
     ]
    }
   ],
   "source": [
    "a=10\n",
    "\n",
    "if a==10:\n",
    "    print('a는 10 입니다.')\n",
    "else:\n",
    "    print('a는 10이 아닙니다.')"
   ]
  },
  {
   "cell_type": "code",
   "execution_count": 45,
   "metadata": {},
   "outputs": [
    {
     "name": "stdout",
     "output_type": "stream",
     "text": [
      "a는 10보다 작습니다.\n"
     ]
    }
   ],
   "source": [
    "a=10\n",
    "\n",
    "if a>10:\n",
    "    print('a는 10보다 큽니다')\n",
    "elif a==10:\n",
    "    print('a는 10입니다.')\n",
    "else:\n",
    "    print('a는 10보다 작습니다.')"
   ]
  },
  {
   "cell_type": "markdown",
   "metadata": {},
   "source": [
    "#### b라는 변수가 짝수이면 'b는 짝수입니다.' 를 출력하고, 홀수이면 'b는 홀수 입니다.' 를 출력하는 if 문을 만들어주세요\n",
    "\n",
    "<b>HINT</b> <br/>\n",
    "% 는 나머지를 구해 주는 연산자 입니다. <br/>\n",
    "15%2 는 1이 나옵니다."
   ]
  },
  {
   "cell_type": "code",
   "execution_count": 49,
   "metadata": {},
   "outputs": [
    {
     "name": "stdout",
     "output_type": "stream",
     "text": [
      "b는 홀수 입니다.\n"
     ]
    }
   ],
   "source": [
    "b=11\n",
    "\n",
    "if b%2==0:\n",
    "    print('b는 짝수 입니다.')\n",
    "else:\n",
    "    print('b는 홀수 입니다.')"
   ]
  },
  {
   "cell_type": "markdown",
   "metadata": {},
   "source": [
    "## 추가 내용"
   ]
  },
  {
   "cell_type": "code",
   "execution_count": 60,
   "metadata": {
    "scrolled": true
   },
   "outputs": [
    {
     "name": "stdout",
     "output_type": "stream",
     "text": [
      "a는 10 그리고 b는 20 입니다.\n",
      "a는 10 또는 b는 20 입니다.\n"
     ]
    }
   ],
   "source": [
    "a=10\n",
    "b=20\n",
    "\n",
    "if a==10 and b==20:\n",
    "    print('a는 10 그리고 b는 20 입니다.')\n",
    "    \n",
    "if a==10 or b==20:\n",
    "    print('a는 10 또는 b는 20 입니다.')"
   ]
  },
  {
   "cell_type": "code",
   "execution_count": 64,
   "metadata": {},
   "outputs": [
    {
     "name": "stdout",
     "output_type": "stream",
     "text": [
      "a는 numbers 리스트 안에 없습니다.\n"
     ]
    }
   ],
   "source": [
    "a=100\n",
    "numbers=[1,2,3,4,5,6]\n",
    "\n",
    "if a in numbers:\n",
    "    print('a는 numbers 리스트 안에 있습니다.')\n",
    "else:\n",
    "    print('a는 numbers 리스트 안에 없습니다.')\n",
    "    \n",
    "# if a not in numbers:\n",
    "#    print('a는 numbers 리스트 안에 없습니다.')\n",
    "# else:\n",
    "#    print('a는 numbers 리스트 안에 있습니다.')"
   ]
  },
  {
   "cell_type": "markdown",
   "metadata": {},
   "source": [
    "# for 문"
   ]
  },
  {
   "cell_type": "markdown",
   "metadata": {},
   "source": [
    "## range 함수"
   ]
  },
  {
   "cell_type": "code",
   "execution_count": 4,
   "metadata": {},
   "outputs": [
    {
     "name": "stdout",
     "output_type": "stream",
     "text": [
      "l1 => [0, 1, 2, 3, 4, 5, 6, 7, 8, 9]\n",
      "l2 => [0, 1, 2, 3, 4, 5, 6, 7, 8, 9]\n"
     ]
    }
   ],
   "source": [
    "l1=[0,1,2,3,4,5,6,7,8,9]\n",
    "print('l1 =>',l1)\n",
    "\n",
    "l2=list(range(10))\n",
    "print('l2 =>',l2)"
   ]
  },
  {
   "cell_type": "code",
   "execution_count": 5,
   "metadata": {},
   "outputs": [
    {
     "name": "stdout",
     "output_type": "stream",
     "text": [
      "[3, 4, 5, 6, 7, 8, 9, 10]\n"
     ]
    }
   ],
   "source": [
    "l3=list(range(3,11))\n",
    "print(l3)"
   ]
  },
  {
   "cell_type": "code",
   "execution_count": 7,
   "metadata": {},
   "outputs": [
    {
     "name": "stdout",
     "output_type": "stream",
     "text": [
      "[0, 2, 4, 6, 8, 10]\n"
     ]
    }
   ],
   "source": [
    "l4=list(range(0,11,2))\n",
    "print(l4)"
   ]
  },
  {
   "cell_type": "markdown",
   "metadata": {},
   "source": [
    "#### range() 를 이용하여 1과 100 사이의 짝수만 갖고 있는 리스트 l5를 만들어 보세요\n",
    "\n",
    "<b>HINT</b> <br/>\n",
    "range(시작,끝+1,건너뛰는 크기)"
   ]
  },
  {
   "cell_type": "code",
   "execution_count": 8,
   "metadata": {
    "scrolled": true
   },
   "outputs": [
    {
     "name": "stdout",
     "output_type": "stream",
     "text": [
      "[2, 4, 6, 8, 10, 12, 14, 16, 18, 20, 22, 24, 26, 28, 30, 32, 34, 36, 38, 40, 42, 44, 46, 48, 50, 52, 54, 56, 58, 60, 62, 64, 66, 68, 70, 72, 74, 76, 78, 80, 82, 84, 86, 88, 90, 92, 94, 96, 98, 100]\n"
     ]
    }
   ],
   "source": [
    "l5=list(range(2,101,2))\n",
    "print(l5)"
   ]
  },
  {
   "cell_type": "markdown",
   "metadata": {},
   "source": [
    "## for 문"
   ]
  },
  {
   "cell_type": "code",
   "execution_count": 9,
   "metadata": {
    "scrolled": false
   },
   "outputs": [
    {
     "name": "stdout",
     "output_type": "stream",
     "text": [
      "0\n",
      "1\n",
      "2\n",
      "3\n",
      "4\n",
      "5\n",
      "6\n",
      "7\n",
      "8\n",
      "9\n"
     ]
    }
   ],
   "source": [
    "for i in range(10):\n",
    "    print(i)"
   ]
  },
  {
   "cell_type": "code",
   "execution_count": 11,
   "metadata": {},
   "outputs": [
    {
     "name": "stdout",
     "output_type": "stream",
     "text": [
      "p\n",
      "y\n",
      "t\n",
      "h\n",
      "o\n",
      "n\n"
     ]
    }
   ],
   "source": [
    "chars=['p','y','t','h','o','n']\n",
    "\n",
    "for c in chars:\n",
    "    print(c)"
   ]
  },
  {
   "cell_type": "code",
   "execution_count": 10,
   "metadata": {},
   "outputs": [
    {
     "name": "stdout",
     "output_type": "stream",
     "text": [
      "55\n"
     ]
    }
   ],
   "source": [
    "sum=0\n",
    "\n",
    "for i in range(1,11):\n",
    "    sum+=i\n",
    "\n",
    "print(sum)"
   ]
  },
  {
   "cell_type": "markdown",
   "metadata": {},
   "source": [
    "#### for 문을 이용하여 1부터 10까지 곱하는 코드를 만들어 보세요\n",
    "\n",
    "<b>HINT</b> <br/>\n",
    "결과로 보여질 변수는 초기에 1로 설정해야겠죠? <br/>\n",
    "*= 은 곱해서 나온 값을 넣어주라는 뜻입니다. <br/>\n",
    "a *= 2 는 a 변수에 들어 있는 값에 2를 곱하고 그 결과를 다시 a 변수에 넣어주라는 뜻입니다."
   ]
  },
  {
   "cell_type": "code",
   "execution_count": 12,
   "metadata": {
    "scrolled": true
   },
   "outputs": [
    {
     "name": "stdout",
     "output_type": "stream",
     "text": [
      "3628800\n"
     ]
    }
   ],
   "source": [
    "res=1\n",
    "\n",
    "for i in range(1,11):\n",
    "    res*=i\n",
    "    \n",
    "print(res)"
   ]
  },
  {
   "cell_type": "markdown",
   "metadata": {},
   "source": [
    "## if문 for문 응용"
   ]
  },
  {
   "cell_type": "code",
   "execution_count": 13,
   "metadata": {
    "scrolled": true
   },
   "outputs": [
    {
     "name": "stdout",
     "output_type": "stream",
     "text": [
      "1 은 홀수 입니다.\n",
      "2 은 짝수 입니다.\n",
      "3 은 홀수 입니다.\n",
      "4 은 짝수 입니다.\n",
      "5 은 홀수 입니다.\n",
      "6 은 짝수 입니다.\n",
      "7 은 홀수 입니다.\n",
      "8 은 짝수 입니다.\n",
      "9 은 홀수 입니다.\n",
      "10 은 짝수 입니다.\n"
     ]
    }
   ],
   "source": [
    "for n in range(1,11):\n",
    "    if n%2==0:\n",
    "        print(n,'은 짝수 입니다.')\n",
    "    else:\n",
    "        print(n,'은 홀수 입니다.')"
   ]
  },
  {
   "cell_type": "markdown",
   "metadata": {},
   "source": [
    "#### for 문을 이용하여 빈 리스트 numbers에 1부터 10까지의 수를 넣는 코드를 써 주세요\n",
    "\n",
    "<b>HINT</b> <br/>\n",
    "빈 리스트는 numbers=[] 처럼 정의 할 수 있습니다<br/>\n",
    "리스트에 값을 넣어주는 것은 append()를 사용하면 됩니다."
   ]
  },
  {
   "cell_type": "code",
   "execution_count": 22,
   "metadata": {},
   "outputs": [
    {
     "name": "stdout",
     "output_type": "stream",
     "text": [
      "[1, 2, 3, 4, 5, 6, 7, 8, 9, 10]\n"
     ]
    }
   ],
   "source": [
    "numbers=[]\n",
    "\n",
    "for i in range(1,11):\n",
    "    numbers.append(i)\n",
    "    \n",
    "print(odds)"
   ]
  },
  {
   "cell_type": "markdown",
   "metadata": {},
   "source": [
    "## 파이써닉한 for문 활용 (리스트 컴프리헨션)"
   ]
  },
  {
   "cell_type": "code",
   "execution_count": 23,
   "metadata": {},
   "outputs": [
    {
     "name": "stdout",
     "output_type": "stream",
     "text": [
      "[1, 2, 3, 4, 5, 6, 7, 8, 9, 10]\n"
     ]
    }
   ],
   "source": [
    "numbers=[i for i in range(1,11)]\n",
    "print(numbers)"
   ]
  },
  {
   "cell_type": "code",
   "execution_count": 24,
   "metadata": {},
   "outputs": [
    {
     "name": "stdout",
     "output_type": "stream",
     "text": [
      "[1, 3, 5, 7, 9]\n"
     ]
    }
   ],
   "source": [
    "odds=[]\n",
    "\n",
    "for i in range(1,11):\n",
    "    if i%2==1:\n",
    "        odds.append(i)\n",
    "        \n",
    "print(odds)"
   ]
  },
  {
   "cell_type": "code",
   "execution_count": 25,
   "metadata": {
    "scrolled": true
   },
   "outputs": [
    {
     "name": "stdout",
     "output_type": "stream",
     "text": [
      "[1, 3, 5, 7, 9]\n"
     ]
    }
   ],
   "source": [
    "odds=[i for i in range(1,11) if i%2==1]\n",
    "print(odds)"
   ]
  },
  {
   "cell_type": "markdown",
   "metadata": {},
   "source": [
    "#### 파이써닉한 for문을 활용하여 1부터 10까지의 수 중 짝수만 갖는 evens 리스트를 만들어 보세요"
   ]
  },
  {
   "cell_type": "code",
   "execution_count": 27,
   "metadata": {
    "scrolled": true
   },
   "outputs": [
    {
     "name": "stdout",
     "output_type": "stream",
     "text": [
      "[2, 4, 6, 8, 10]\n"
     ]
    }
   ],
   "source": [
    "evens=[i for i in range(1,11) if i%2==0]\n",
    "print(evens)"
   ]
  },
  {
   "cell_type": "markdown",
   "metadata": {},
   "source": [
    "# 함수"
   ]
  },
  {
   "cell_type": "markdown",
   "metadata": {},
   "source": [
    "## 매개변수 X, return X"
   ]
  },
  {
   "cell_type": "code",
   "execution_count": 30,
   "metadata": {},
   "outputs": [
    {
     "name": "stdout",
     "output_type": "stream",
     "text": [
      "저는 함수이지만, 같은 것만 하네요...\n"
     ]
    }
   ],
   "source": [
    "def func1():\n",
    "    print('저는 함수이지만, 같은 것만 하네요...')\n",
    "\n",
    "func1()"
   ]
  },
  {
   "cell_type": "markdown",
   "metadata": {},
   "source": [
    "## 매개변수 O, return X"
   ]
  },
  {
   "cell_type": "code",
   "execution_count": 34,
   "metadata": {},
   "outputs": [
    {
     "name": "stdout",
     "output_type": "stream",
     "text": [
      "저는 매개 변수 한 개를 받는 함수 입니다.\n",
      "받은 매개 변수는 python 입니다.\n",
      "매개변수에 따라 다른 것을 할 수 있군요!!\n"
     ]
    }
   ],
   "source": [
    "def func2_a(a):\n",
    "    print('저는 매개 변수 한 개를 받는 함수 입니다.')\n",
    "    print('받은 매개 변수는',a,'입니다.')\n",
    "    print('매개변수에 따라 다른 것을 할 수 있군요!!')\n",
    "\n",
    "func2_a('python')"
   ]
  },
  {
   "cell_type": "code",
   "execution_count": 35,
   "metadata": {},
   "outputs": [
    {
     "name": "stdout",
     "output_type": "stream",
     "text": [
      "저는 매개 변수 두 개를 받는 함수 입니다.\n",
      "받은 매개변수는 python , 3 입니다.\n"
     ]
    }
   ],
   "source": [
    "def func2_b(a,b):\n",
    "    print('저는 매개 변수 두 개를 받는 함수 입니다.')\n",
    "    print('받은 매개변수는',a,',',b,'입니다.')\n",
    "\n",
    "func2_b('python',3)"
   ]
  },
  {
   "cell_type": "markdown",
   "metadata": {},
   "source": [
    "## 매개변수 X, return O"
   ]
  },
  {
   "cell_type": "code",
   "execution_count": 36,
   "metadata": {},
   "outputs": [
    {
     "name": "stdout",
     "output_type": "stream",
     "text": [
      "저는 특별한 경우가 아니면 같은 값만 돌려주는 함수입니다...\n",
      "I love python\n"
     ]
    }
   ],
   "source": [
    "def func3():\n",
    "    print('저는 특별한 경우가 아니면 같은 값만 돌려주는 함수입니다...')\n",
    "    return 'I love python'\n",
    "\n",
    "ret=func3()\n",
    "print(ret)"
   ]
  },
  {
   "cell_type": "markdown",
   "metadata": {},
   "source": [
    "## 매개변수 O, return O"
   ]
  },
  {
   "cell_type": "code",
   "execution_count": 39,
   "metadata": {},
   "outputs": [
    {
     "name": "stdout",
     "output_type": "stream",
     "text": [
      "저는 세개의 매개 변수를 받아 더한 후 값을 return 하는 함수입니다.\n",
      "매개 변수에 따라 새로운 것을 return 할 수 있군요!!\n",
      "9\n"
     ]
    }
   ],
   "source": [
    "def func4(first,second,third):\n",
    "    print('저는 세개의 매개 변수를 받아 더한 후 값을 return 하는 함수입니다.')\n",
    "    print('매개 변수에 따라 새로운 것을 return 할 수 있군요!!')\n",
    "    return (first+second+third)\n",
    "\n",
    "ret=func4(1,3,5)\n",
    "print(ret)"
   ]
  },
  {
   "cell_type": "markdown",
   "metadata": {},
   "source": [
    "#### 매개 변수를 3개를 받는 함수를 만들어 주세요. 첫 번째 매개변수는 여러분의 이름, 두 번째 매개변수는 여러분의 나이, 세 번째 매개변수는 여러분이 좋아하는 것을 받습니다. 그 후 print() 를 이용하여 <br/> '제 이름은 [이름] 입니다.' '저는 [나이] 살 입니다.' '제가 좋아하는 것은 [좋아하는 것] 입니다.' 를 출력하고 여러분의 학교 이름을 return 하는 함수를 만들어 보세요.\n",
    "\n",
    "<b>HINT</b> <br/>\n",
    "매개변수는 어떤 것을 의미하는지 표현하면 좋습니다. (이름은 name 이라는 매개변수 활용)<br/>\n",
    "return 한 학교 이름을 여러분이 만든 변수로 받은 후에 출력하면 제대로 return이 되었는지 알수 있겠죠?"
   ]
  },
  {
   "cell_type": "code",
   "execution_count": 40,
   "metadata": {},
   "outputs": [
    {
     "name": "stdout",
     "output_type": "stream",
     "text": [
      "제 이름은 홍길동 입니다.\n",
      "제 나이는 15 입니다.\n",
      "제가 좋아하는 것은 python 입니다.\n",
      "00 초/중학교\n"
     ]
    }
   ],
   "source": [
    "def myself(name,age,like):\n",
    "    print('제 이름은',name,'입니다.')\n",
    "    print('제 나이는',age,'입니다.')\n",
    "    print('제가 좋아하는 것은',like,'입니다.')\n",
    "    return '00 초/중학교'\n",
    "\n",
    "school=myself('홍길동',15,'python')\n",
    "print(school)"
   ]
  },
  {
   "cell_type": "markdown",
   "metadata": {},
   "source": [
    "## 매개변수를 미리 정의 한 함수"
   ]
  },
  {
   "cell_type": "code",
   "execution_count": 44,
   "metadata": {},
   "outputs": [],
   "source": [
    "def add(first=1,end=10):\n",
    "    sum=0\n",
    "    \n",
    "    for i in range(first,end+1):\n",
    "        sum+=i\n",
    "    \n",
    "    return sum"
   ]
  },
  {
   "cell_type": "code",
   "execution_count": 46,
   "metadata": {},
   "outputs": [
    {
     "name": "stdout",
     "output_type": "stream",
     "text": [
      "5050\n",
      "55\n",
      "19\n"
     ]
    }
   ],
   "source": [
    "a=add(1,100)\n",
    "print(a)\n",
    "\n",
    "b=add()\n",
    "print(b)\n",
    "\n",
    "c=add(9)\n",
    "print(c)"
   ]
  },
  {
   "cell_type": "code",
   "execution_count": 48,
   "metadata": {
    "scrolled": false
   },
   "outputs": [
    {
     "name": "stdout",
     "output_type": "stream",
     "text": [
      "5050\n",
      "5050\n"
     ]
    }
   ],
   "source": [
    "d=add(first=1,end=100)\n",
    "print(d)\n",
    "\n",
    "e=add(end=100,first=1)\n",
    "print(e)"
   ]
  },
  {
   "cell_type": "markdown",
   "metadata": {},
   "source": [
    "### 매개변수를 직접 정의하는 부분은 뒤에 나와야 합니다."
   ]
  },
  {
   "cell_type": "code",
   "execution_count": 51,
   "metadata": {
    "scrolled": true
   },
   "outputs": [
    {
     "name": "stdout",
     "output_type": "stream",
     "text": [
      "5050\n"
     ]
    }
   ],
   "source": [
    "f=add(1,end=100)\n",
    "print(f)\n",
    "\n",
    "# g=add(first=5,100)\n",
    "# print(g)"
   ]
  },
  {
   "cell_type": "markdown",
   "metadata": {},
   "source": [
    "# import"
   ]
  },
  {
   "cell_type": "markdown",
   "metadata": {},
   "source": [
    "## 필요한 모듈 import"
   ]
  },
  {
   "cell_type": "code",
   "execution_count": 1,
   "metadata": {},
   "outputs": [
    {
     "data": {
      "text/plain": [
       "4"
      ]
     },
     "execution_count": 1,
     "metadata": {},
     "output_type": "execute_result"
    }
   ],
   "source": [
    "import math\n",
    "\n",
    "math.ceil(3.7)"
   ]
  },
  {
   "cell_type": "markdown",
   "metadata": {},
   "source": [
    "## 모듈 안에 필요한 함수 import"
   ]
  },
  {
   "cell_type": "code",
   "execution_count": 2,
   "metadata": {
    "scrolled": true
   },
   "outputs": [
    {
     "data": {
      "text/plain": [
       "11"
      ]
     },
     "execution_count": 2,
     "metadata": {},
     "output_type": "execute_result"
    }
   ],
   "source": [
    "from math import ceil\n",
    "\n",
    "ceil(10.3)"
   ]
  },
  {
   "cell_type": "markdown",
   "metadata": {},
   "source": [
    "## 별명으로 import"
   ]
  },
  {
   "cell_type": "code",
   "execution_count": 3,
   "metadata": {},
   "outputs": [
    {
     "data": {
      "text/plain": [
       "112"
      ]
     },
     "execution_count": 3,
     "metadata": {},
     "output_type": "execute_result"
    }
   ],
   "source": [
    "from math import ceil as Kwak\n",
    "\n",
    "Kwak(111.0001)"
   ]
  },
  {
   "cell_type": "markdown",
   "metadata": {},
   "source": [
    "# 전체 개념 복습을 위한 문제"
   ]
  },
  {
   "cell_type": "markdown",
   "metadata": {},
   "source": [
    "### 다음과 같은 함수를 만들어 보고 잘 실행 되는지 확인해 보세요.\n",
    "\n",
    "1. 매개 변수는 두 개 입니다. 첫 번째 매개변수는 시작으로 초기에는 1입니다. 두 번째 매개변수는 끝으로 초기에는 10입니다.\n",
    "2. 빈 리스트를 만든 후, for문을 통해 시작과 끝 범위 사이에 있는 숫자 중, if 문을 활용해 3의 배수만 리스트에 append()를 사용해 들어가게끔 해주세요.\n",
    "3. 빈 리스트가 채워진 후에는 return을 통해 그 리스트를 내보내 주세요."
   ]
  },
  {
   "cell_type": "code",
   "execution_count": 52,
   "metadata": {},
   "outputs": [
    {
     "name": "stdout",
     "output_type": "stream",
     "text": [
      "[3, 6, 9]\n",
      "[3, 6, 9, 12, 15, 18, 21, 24, 27, 30, 33, 36, 39, 42, 45, 48, 51, 54, 57, 60, 63, 66, 69, 72, 75, 78, 81, 84, 87, 90, 93, 96, 99]\n"
     ]
    }
   ],
   "source": [
    "def three(first=1,end=10):\n",
    "    tmp=[]\n",
    "    \n",
    "    for i in range(first,end+1):\n",
    "        if i%3==0:\n",
    "            tmp.append(i)\n",
    "    return tmp\n",
    "\n",
    "res=three()\n",
    "print(res)\n",
    "res=three(first=1,end=100)\n",
    "print(res)"
   ]
  }
 ],
 "metadata": {
  "kernelspec": {
   "display_name": "EDU",
   "language": "python",
   "name": "edu"
  },
  "language_info": {
   "codemirror_mode": {
    "name": "ipython",
    "version": 3
   },
   "file_extension": ".py",
   "mimetype": "text/x-python",
   "name": "python",
   "nbconvert_exporter": "python",
   "pygments_lexer": "ipython3",
   "version": "3.7.3"
  }
 },
 "nbformat": 4,
 "nbformat_minor": 2
}
