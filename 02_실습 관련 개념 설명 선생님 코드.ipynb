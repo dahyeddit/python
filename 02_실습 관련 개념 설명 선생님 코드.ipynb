{
 "cells": [
  {
   "cell_type": "markdown",
   "metadata": {},
   "source": [
    "# split() 함수 설명"
   ]
  },
  {
   "cell_type": "code",
   "execution_count": 1,
   "metadata": {},
   "outputs": [
    {
     "name": "stdout",
     "output_type": "stream",
     "text": [
      "['힙합', '발라드', '팝송', '댄스', '트로트']\n"
     ]
    }
   ],
   "source": [
    "songs_str='힙합&발라드&팝송&댄스&트로트'\n",
    "\n",
    "songs=songs_str.split('&')\n",
    "print(songs)"
   ]
  },
  {
   "cell_type": "code",
   "execution_count": 2,
   "metadata": {},
   "outputs": [
    {
     "name": "stdout",
     "output_type": "stream",
     "text": [
      "songs의 3번째 노래 : 팝송\n"
     ]
    }
   ],
   "source": [
    "print('songs의 3번째 노래 :',songs[2])"
   ]
  },
  {
   "cell_type": "markdown",
   "metadata": {},
   "source": [
    "### 다음은 운동 종목을 나열한 문장입니다. split()을 활용하여 나눈 후, 마지막 운동 종목을 출력해주세요."
   ]
  },
  {
   "cell_type": "code",
   "execution_count": 3,
   "metadata": {},
   "outputs": [
    {
     "name": "stdout",
     "output_type": "stream",
     "text": [
      "볼링\n"
     ]
    }
   ],
   "source": [
    "sports_str='축구,야구,농구,배구,수영,볼링'\n",
    "\n",
    "sports=sports_str.split(',')\n",
    "print(sports[5])"
   ]
  },
  {
   "cell_type": "markdown",
   "metadata": {},
   "source": [
    "# 컴퓨터가 단어를 나누는 법 (word tokenize)"
   ]
  },
  {
   "cell_type": "code",
   "execution_count": 4,
   "metadata": {},
   "outputs": [],
   "source": [
    "from nltk.tokenize import word_tokenize"
   ]
  },
  {
   "cell_type": "code",
   "execution_count": 14,
   "metadata": {
    "scrolled": false
   },
   "outputs": [
    {
     "name": "stdout",
     "output_type": "stream",
     "text": [
      "['I', 'like', 'Python', '.', '나는', '파이썬이', '좋아요', '.', '!']\n"
     ]
    }
   ],
   "source": [
    "sentence='I like Python. 나는 파이썬이 좋아요.!'\n",
    "\n",
    "tokens=word_tokenize(sentence)\n",
    "print(tokens)"
   ]
  },
  {
   "cell_type": "markdown",
   "metadata": {},
   "source": [
    "### 다음 노래 가사를 word_tokenize()를 사용하여 단어로 나누어 보세요."
   ]
  },
  {
   "cell_type": "code",
   "execution_count": 17,
   "metadata": {},
   "outputs": [
    {
     "name": "stdout",
     "output_type": "stream",
     "text": [
      "['Listen', 'my', 'my', 'baby', '나는', '저', '하늘을', '높이', '날고', '있어', '(', '그때', '니가', '내게', '줬던', '두', '날개로', ')', '이제', '여긴', '너무', '높아', '난', '내', '눈에', '널', '맞추고', '싶어', 'Yeah', 'you', 'makin', '’', 'me', 'a', 'boy', 'with', 'luv']\n"
     ]
    }
   ],
   "source": [
    "song='''Listen my my baby 나는\n",
    "저 하늘을 높이 날고 있어\n",
    "(그때 니가 내게 줬던 두 날개로)\n",
    "이제 여긴 너무 높아\n",
    "난 내 눈에 널 맞추고 싶어\n",
    "Yeah you makin’ me a boy with luv'''\n",
    "\n",
    "chorus=word_tokenize(song)\n",
    "print(chorus)"
   ]
  },
  {
   "cell_type": "markdown",
   "metadata": {},
   "source": [
    "# 컴퓨터가 단어를 걸러내는 법 (stop words)"
   ]
  },
  {
   "cell_type": "code",
   "execution_count": 16,
   "metadata": {},
   "outputs": [
    {
     "name": "stdout",
     "output_type": "stream",
     "text": [
      "['I', 'like', 'Python', '나는', '파이썬이', '좋아요']\n"
     ]
    }
   ],
   "source": [
    "stop_words=['.','!']\n",
    "\n",
    "tmp=[]\n",
    "\n",
    "for word in tokens:\n",
    "    if word not in stop_words:\n",
    "        tmp.append(word)\n",
    "        \n",
    "tokens=tmp\n",
    "\n",
    "# tokens=[word for word in tokens if word not in stop_words]\n",
    "\n",
    "print(tokens)"
   ]
  },
  {
   "cell_type": "markdown",
   "metadata": {},
   "source": [
    "### 여러분이 만든 chorus 리스트에서 stop_words를 활용해 영어 및 특수 문자를 없애 봅시다."
   ]
  },
  {
   "cell_type": "code",
   "execution_count": 18,
   "metadata": {},
   "outputs": [
    {
     "name": "stdout",
     "output_type": "stream",
     "text": [
      "['나는', '저', '하늘을', '높이', '날고', '있어', '그때', '니가', '내게', '줬던', '두', '날개로', '이제', '여긴', '너무', '높아', '난', '내', '눈에', '널', '맞추고', '싶어']\n"
     ]
    }
   ],
   "source": [
    "stop_words=['Listen','my','baby','(',')','Yeah','you','makin','’','me','a','boy','with','luv']\n",
    "\n",
    "tmp=[]\n",
    "\n",
    "for word in chorus:\n",
    "    if word not in stop_words:\n",
    "        tmp.append(word)\n",
    "        \n",
    "chorus=tmp\n",
    "\n",
    "print(chorus)"
   ]
  }
 ],
 "metadata": {
  "kernelspec": {
   "display_name": "EDU",
   "language": "python",
   "name": "edu"
  },
  "language_info": {
   "codemirror_mode": {
    "name": "ipython",
    "version": 3
   },
   "file_extension": ".py",
   "mimetype": "text/x-python",
   "name": "python",
   "nbconvert_exporter": "python",
   "pygments_lexer": "ipython3",
   "version": "3.7.3"
  }
 },
 "nbformat": 4,
 "nbformat_minor": 2
}
